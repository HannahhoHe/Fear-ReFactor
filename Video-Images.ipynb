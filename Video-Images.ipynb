{
 "cells": [
  {
   "cell_type": "code",
   "execution_count": 9,
   "metadata": {},
   "outputs": [],
   "source": [
    "import sys \n",
    "import cv2\n",
    "import os\n",
    "from os.path import isfile, join\n",
    "import pandas as pd"
   ]
  },
  {
   "cell_type": "code",
   "execution_count": 3,
   "metadata": {},
   "outputs": [
    {
     "data": {
      "text/plain": [
       "29.97002997002997"
      ]
     },
     "execution_count": 3,
     "metadata": {},
     "output_type": "execute_result"
    }
   ],
   "source": [
    "#https://medium.com/@iKhushPatel/convert-video-to-images-images-to-video-using-opencv-python-db27a128a481\n",
    "#vidcap.get(cv2.CAP_PROP_FPS)\n",
    "#vidcap.get(cv2.CAP_PROP_POS_MSEC)"
   ]
  },
  {
   "cell_type": "code",
   "execution_count": 7,
   "metadata": {},
   "outputs": [],
   "source": [
    "# video - to -images \n",
    "vidcap = cv2.VideoCapture('More best of_ IT (1990).mp4')\n",
    "def getFrame(sec):\n",
    "    vidcap.set(cv2.CAP_PROP_POS_MSEC,sec*1000)\n",
    "    hasFrames,image = vidcap.read()\n",
    "    if hasFrames:\n",
    "        os.chdir(r'C:\\Users\\DrHeh\\Google Drive\\programming\\py_InsightFellowProject\\pre-course prep\\video-to-images')\n",
    "        cv2.imwrite(\"image\"+str(count)+\".jpg\", image)     # save frame as JPG file\n",
    "    return hasFrames\n",
    "\n",
    "\n",
    "if __name__ == '__main__':\n",
    "sec = 0\n",
    "frameRate = 0.5 #//it will capture image in each 0.5 second\n",
    "count=1\n",
    "success = getFrame(sec)\n",
    "while success:\n",
    "    count = count + 1\n",
    "    sec = sec + frameRate\n",
    "    sec = round(sec, 2)\n",
    "    success = getFrame(sec)"
   ]
  },
  {
   "cell_type": "code",
   "execution_count": 55,
   "metadata": {},
   "outputs": [],
   "source": [
    "# images - to -videos \n",
    "pathIn= 'C:/Users/DrHeh/OneDrive/Documents/Insight Data Science Program/Jupyter python scripts/video1Frames 5 models run/outputAllFrame_replacedMaskFrame/'\n",
    "pathOut = r'C:\\Users\\DrHeh\\Google Drive\\programming\\py_InsightFellowProject\\FobiaPhilter(scripts drafted local)\\Buffered_converted_videos\\video1.mp4'  #or .mp4\n",
    "df_filename_imageID = pd.read_csv(r'C:\\Users\\DrHeh\\OneDrive\\Documents\\Insight Data Science Program\\Jupyter python scripts\\video1Frames 5 models run\\video1filenames.txt')\n",
    "fps = 0.5\n",
    "   \n",
    "\n",
    "# use 00100 model and align with the origin image name with the right order \n",
    "selected_files = []\n",
    "for file in os.listdir(pathIn):\n",
    "    if file.endswith('_0050.h5.jpg'):\n",
    "        selected_files.append(file) \n",
    "\n",
    "# fix the order\n",
    "df = pd.DataFrame({'outputFile': selected_files})\n",
    "df['Index_outputFile'] = df['outputFile'].str.replace('_mask_rcnn_clown_cfg_0050.h5.jpg','')\n",
    "df['Index_outputFile'] = df['Index_outputFile'].astype('int64')\n",
    "dfIndex = df_filename_imageID.rename(columns={'Unnamed: 0':\"Index_outputFile\", '0':\"RightOrderOriginalFile\"})\n",
    "dfIndex['RightOrderOriginalFile'] = dfIndex['RightOrderOriginalFile'].str.replace('dataset.image','')\n",
    "dfIndex['RightOrderOriginalFile'] = dfIndex['RightOrderOriginalFile'].astype('int64')\n",
    "Use_File = pd.merge(df, dfIndex, on=['Index_outputFile'], how='outer').sort_values(by=['RightOrderOriginalFile'])\n",
    "Use_File = Use_File.iloc[586:623]\n",
    "\n",
    "# start to convert images to videos\n",
    "frame_array = []\n",
    "for file in Use_File['outputFile']:\n",
    "    filename=pathIn + file\n",
    "    img = cv2.imread(filename)\n",
    "    height, width, layers = img.shape\n",
    "    size = (width,height)\n",
    "    \n",
    "    #inserting the frames into an image array\n",
    "    frame_array.append(img)\n",
    "out = cv2.VideoWriter(pathOut,cv2.VideoWriter_fourcc(*'DIVX'), fps, size)\n",
    "for i in range(len(frame_array)):\n",
    "    # writing to a image array\n",
    "    out.write(frame_array[i])\n",
    "out.release()"
   ]
  },
  {
   "cell_type": "code",
   "execution_count": 60,
   "metadata": {},
   "outputs": [],
   "source": [
    "# To play video \n",
    "\n",
    "os.chdir(r'C:\\Users\\DrHeh\\Google Drive\\programming\\py_InsightFellowProject\\FobiaPhilter(scripts drafted local)\\Buffered_converted_videos')\n",
    "cap = cv2.VideoCapture('video1.mp4')\n",
    "\n",
    "while True:\n",
    "    ret, frame = cap.read()\n",
    "    if ret == True:\n",
    "        cv2.imshow('frame',frame)\n",
    "        cv2.waitKey(120)\n",
    "        \n",
    "        if cv2.waitKey(120) & 0xFF == ord('q'):   # Press Q on keyboard to  exit \n",
    "            break\n",
    "\n",
    "    else:\n",
    "        break\n",
    "\n",
    "cap.release()\n",
    "cv2.destroyAllWindows()"
   ]
  },
  {
   "cell_type": "code",
   "execution_count": null,
   "metadata": {},
   "outputs": [],
   "source": []
  }
 ],
 "metadata": {
  "kernelspec": {
   "display_name": "Python 3",
   "language": "python",
   "name": "python3"
  },
  "language_info": {
   "codemirror_mode": {
    "name": "ipython",
    "version": 3
   },
   "file_extension": ".py",
   "mimetype": "text/x-python",
   "name": "python",
   "nbconvert_exporter": "python",
   "pygments_lexer": "ipython3",
   "version": "3.8.5"
  }
 },
 "nbformat": 4,
 "nbformat_minor": 4
}
