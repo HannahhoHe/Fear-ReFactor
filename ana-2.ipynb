{
 "cells": [
  {
   "cell_type": "code",
   "execution_count": null,
   "metadata": {},
   "outputs": [],
   "source": [
    "import pandas as pd\n",
    "import seaborn as sns\n",
    "import matplotlib.pyplot as plt\n",
    "import numpy as np"
   ]
  },
  {
   "cell_type": "markdown",
   "metadata": {},
   "source": [
    "# PlottingMatrix - counting frames w/ w/o objects"
   ]
  },
  {
   "cell_type": "code",
   "execution_count": null,
   "metadata": {},
   "outputs": [],
   "source": [
    "#trainingTable = pd.read_csv('/home/ubuntu/Mask_RCNN/data/training_forConfusionTablePlot.txt')\n",
    "TestingTable = pd.read_csv('/home/ubuntu/Mask_RCNN/data/testing_forConfusionTablePlot.txt')"
   ]
  },
  {
   "cell_type": "markdown",
   "metadata": {},
   "source": [
    "# Counting Frames in a folder"
   ]
  },
  {
   "cell_type": "code",
   "execution_count": null,
   "metadata": {},
   "outputs": [],
   "source": [
    "def getConfusionTable(dataFile):\n",
    "    dataFile['Accuracy'] = (dataFile['PP'] + dataFile['NN'])/(dataFile['PP'] + dataFile['NN']+\n",
    "                                                                              dataFile['NP'] + \n",
    "                                                                               dataFile['PN'])\n",
    "    \n",
    "    dataFile['Precision'] = (dataFile['PP'])/(dataFile['PP'] + dataFile['NP'])\n",
    "\n",
    "    dataFile['Recall'] = (dataFile['PP'])/(dataFile['PP'] + dataFile['PN']) \n",
    "\n",
    "    dataFile['F1'] = 2*(dataFile['Precision']*dataFile['Recall'])/(\n",
    "        dataFile['Precision'] + dataFile['Recall'])\n",
    "    dataFile = dataFile.drop(columns='Unnamed: 0')\n",
    "    \n",
    "    return dataFile \n",
    "\n",
    "#TrainingConfusionTable = getConfusionTable(trainingTable)\n",
    "#TrainingConfusionTable.to_csv('/home/ubuntu/Mask_RCNN/data/TrainingConfusionTable.txt')\n",
    "\n",
    "TestingConfusionTable = getConfusionTable(TestingTable)\n",
    "TestingConfusionTable.to_csv('/home/ubuntu/Mask_RCNN/data/TestingConfusionTable.txt')\n",
    "\n",
    "def plotConfusionTable(data):\n",
    "\n",
    "    TN = data.iloc[2][1]\n",
    "    TP = data.iloc[2][2]\n",
    "    FN = data.iloc[2][4]\n",
    "    FP = data.iloc[2][3]\n",
    "    ConfusionTable = [[TP, FP], [FN, TN]]\n",
    "\n",
    "    g = sns.heatmap(ConfusionTable, annot=True, annot_kws={\"size\": 16},cmap='coolwarm', \n",
    "                   xticklabels=['contain clown', 'no clown'],\n",
    "                   yticklabels=['contain clown', 'no clown'],\n",
    "                   )\n",
    "    \n",
    "    plt.xlabel('True')\n",
    "    plt.ylabel('Pred')\n",
    "    \n",
    "    return plt\n",
    "plotConfusionTable(TestingConfusionTable)"
   ]
  },
  {
   "cell_type": "markdown",
   "metadata": {},
   "source": [
    "# Counting objects"
   ]
  },
  {
   "cell_type": "code",
   "execution_count": null,
   "metadata": {},
   "outputs": [],
   "source": [
    "# Only testing data and epoc 25\n",
    "data = pd.read_csv('/home/ubuntu/Mask_RCNN/data/Testing_truth_pred_objCount.txt')\n",
    "data = data[data.epoch==25]\n",
    "\n",
    "# frames with clown\n",
    "data_with_true_clown = data[data.val_clown!=0]\n",
    "data_with_true_clown['pred/true'] = data_with_true_clown['#clown']/data_with_true_clown['val_clown']\n",
    "data_with_true_clown = data_with_true_clown[['pred/true']]\n",
    "sns.set(style = \"ticks\", font_scale = 1.5, color_codes=True)\n",
    "sns.set_context(\"talk\")\n",
    "g= sns.countplot(data = data_with_true_clown, \n",
    "               x=\"pred/true\", palette = 'Set2')\n",
    "plt.xlabel('Pred/True')\n",
    "plt.ylabel('Number of frames \\n (Frequency)')\n",
    "\n",
    "\n",
    "#frames without clown\n",
    "data_without_true_clown = data[data.val_clown==0]\n",
    "data_without_true_clown = data_without_true_clown[['#clown']]\n",
    "sns.distplot(data_without_true_clown,bins=\"doane\",kde=False,hist_kws={\"align\" : \"left\"})\n",
    "plt.xlabel('Pred (number of clown)')\n",
    "plt.ylabel('Number of frames \\n (Frequency)')\n",
    "\n",
    "data = pd.read_csv('/home/ubuntu/Mask_RCNN/data/Testing_truth_pred_objCount.txt')\n",
    "data = data[data.epoch==25]\n",
    "data_without_true_clown = data[data.val_clown==0]\n",
    "\n",
    "sns.set(style = \"ticks\", font_scale = 1.5, color_codes=True)\n",
    "sns.set_context(\"talk\")\n",
    "sns.barplot(data = data_without_true_clown, x = 'val_nface', y = '#nface', color='brown')\n",
    "plt.ylim(0, 10)\n",
    "plt.xlabel('Number of true faces')\n",
    "plt.ylabel('Number of pred faces (avg)')\n",
    "\n",
    "sns.barplot(data = data_without_true_clown, x = 'val_nface', y = '#clown', color='steelblue')\n",
    "plt.ylim(0, 10)\n",
    "plt.xlabel('Number of true faces')\n",
    "plt.ylabel('Number of pred clown (avg)')"
   ]
  }
 ],
 "metadata": {
  "kernelspec": {
   "display_name": "Python 3",
   "language": "python",
   "name": "python3"
  },
  "language_info": {
   "codemirror_mode": {
    "name": "ipython",
    "version": 3
   },
   "file_extension": ".py",
   "mimetype": "text/x-python",
   "name": "python",
   "nbconvert_exporter": "python",
   "pygments_lexer": "ipython3",
   "version": "3.8.5"
  }
 },
 "nbformat": 4,
 "nbformat_minor": 4
}
