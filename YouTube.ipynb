{
 "cells": [
  {
   "cell_type": "code",
   "execution_count": 98,
   "metadata": {},
   "outputs": [
    {
     "name": "stdout",
     "output_type": "stream",
     "text": [
      "  292,911,995.0 Bytes [100.00%] received. Rate: [10095 KB/s].  ETA: [0 secs]     \n",
      "  184,524,033.0 Bytes [100.00%] received. Rate: [12978 KB/s].  ETA: [0 secs]    \n",
      "  36,293,604.0 Bytes [100.00%] received. Rate: [15508 KB/s].  ETA: [0 secs]    \n",
      "  92,899,049.0 Bytes [100.00%] received. Rate: [12155 KB/s].  ETA: [0 secs]    \n",
      "Transcript no found AM I A CLOWN?? LIFE UPDATE | Olwe.thu\n",
      "  130,435,710.0 Bytes [100.00%] received. Rate: [18696 KB/s].  ETA: [0 secs]    \n",
      "  171,430,730.0 Bytes [100.00%] received. Rate: [16507 KB/s].  ETA: [0 secs]    \n",
      "  17,876,551.0 Bytes [100.00%] received. Rate: [18791 KB/s].  ETA: [0 secs]    \n",
      "  203,024,264.0 Bytes [100.00%] received. Rate: [18013 KB/s].  ETA: [0 secs]     \n",
      "  117,116,860.0 Bytes [100.00%] received. Rate: [16365 KB/s].  ETA: [0 secs]    \n"
     ]
    }
   ],
   "source": [
    "from youtubesearchpython import SearchVideos\n",
    "import pandas as pd\n",
    "from lxml import html, etree\n",
    "import pafy\n",
    "from youtube_transcript_api import YouTubeTranscriptApi\n",
    "import json\n",
    "\n",
    "\n",
    "# by Search Key words , save Table and videos, get transcripts   \n",
    "\n",
    "query = \"clown\"\n",
    "maxi = 10\n",
    "\n",
    "def YouTubeQuery(query:str, maxi:int, kind):\n",
    "    search = SearchVideos(query, offset = 1, mode = \"json\", max_results = maxi)\n",
    "    res = pd.DataFrame()\n",
    "    res['Titles'] = search.titles\n",
    "    res['link'] = search.links\n",
    "    res['id'] = search.ids\n",
    "    res['durations'] = search.durations\n",
    "    res.to_csv('searchRes_{types}.txt'.format(types = kind))\n",
    "    return res \n",
    "\n",
    "def downloadVideos():\n",
    "    res = YouTubeQuery(query, maxi, \"Videos\")\n",
    "    for url in res[\"link\"]:\n",
    "        video = pafy.new(url)\n",
    "        bestResolutionVideo = video.getbest()\n",
    "        bestResolutionVideo.download()\n",
    "                    \n",
    "            \n",
    "def downloadIndTranscriptsVideos():\n",
    "    res = YouTubeQuery(query, maxi, \"Transcripts\")\n",
    "        \n",
    "    for i in range(0,len(res)):\n",
    "        try:\n",
    "            trans = YouTubeTranscriptApi.get_transcript(res['id'].iloc[i], languages=['en'])\n",
    "            with open('{title}_transcript.json'.format(title = res['Titles'][i]),'w') as json_file:   #this may need to polish json later on\n",
    "                json.dump(trans, json_file)\n",
    "            \n",
    "            video = pafy.new(res['link'][i])\n",
    "            bestResolutionVideo = video.getbest()\n",
    "            bestResolutionVideo.download()\n",
    "                \n",
    "        except: \n",
    "            print('Transcript no found',f\"{res['Titles'].iloc[i]}\")\n",
    "        \n",
    "        \n",
    "def main():\n",
    "    #downloadVideos()\n",
    "    downloadIndTranscriptsVideos()\n",
    "\n",
    "if __name__ == \"__main__\":\n",
    "    main()"
   ]
  },
  {
   "cell_type": "code",
   "execution_count": null,
   "metadata": {},
   "outputs": [],
   "source": []
  }
 ],
 "metadata": {
  "kernelspec": {
   "display_name": "Python 3",
   "language": "python",
   "name": "python3"
  },
  "language_info": {
   "codemirror_mode": {
    "name": "ipython",
    "version": 3
   },
   "file_extension": ".py",
   "mimetype": "text/x-python",
   "name": "python",
   "nbconvert_exporter": "python",
   "pygments_lexer": "ipython3",
   "version": "3.8.5"
  }
 },
 "nbformat": 4,
 "nbformat_minor": 4
}
