{
 "cells": [
  {
   "cell_type": "code",
   "execution_count": 50,
   "metadata": {},
   "outputs": [
    {
     "name": "stdout",
     "output_type": "stream",
     "text": [
      "  292,911,995.0 Bytes [100.00%] received. Rate: [12836 KB/s].  ETA: [0 secs]    \n",
      "  184,524,033.0 Bytes [100.00%] received. Rate: [5983 KB/s].  ETA: [0 secs]     \n",
      "  36,293,604.0 Bytes [100.00%] received. Rate: [13799 KB/s].  ETA: [0 secs]    \n",
      "  92,899,049.0 Bytes [100.00%] received. Rate: [1529 KB/s].  ETA: [0 secs]     \n",
      "  130,435,710.0 Bytes [100.00%] received. Rate: [18463 KB/s].  ETA: [0 secs]    \n",
      "  292,911,995.0 Bytes [100.00%] received. Rate: [8590 KB/s].  ETA: [0 secs]     \n",
      "  184,524,033.0 Bytes [100.00%] received. Rate: [43011 KB/s].  ETA: [0 secs]    \n",
      "  92,899,049.0 Bytes [100.00%] received. Rate: [5879 KB/s].  ETA: [0 secs]     \n",
      "  36,293,604.0 Bytes [100.00%] received. Rate: [1797 KB/s].  ETA: [0 secs]     \n",
      "  17,876,551.0 Bytes [100.00%] received. Rate: [9794 KB/s].  ETA: [0 secs]    \n"
     ]
    }
   ],
   "source": [
    "from youtubesearchpython import SearchVideos\n",
    "import pandas as pd\n",
    "from lxml import html, etree\n",
    "import pafy\n",
    "from youtube_transcript_api import YouTubeTranscriptApi\n",
    "import json\n",
    "\n",
    "# by Search Key words , save Table and videos, get transcripts   \n",
    "\n",
    "query = \"clown\"\n",
    "maxi = 5\n",
    "\n",
    "def YouTubeQuery(query:str, maxi:int, kind):\n",
    "    search = SearchVideos(query, offset = 1, mode = \"json\", max_results = maxi)\n",
    "    res = pd.DataFrame()\n",
    "    res['Titles'] = search.titles\n",
    "    res['link'] = search.links\n",
    "    res['id'] = search.ids\n",
    "    res['durations'] = search.durations\n",
    "    res.to_csv('s3n://vidobject/Search_res/searchRes_{types}.txt'.format(types = kind))\n",
    "    return res \n",
    "\n",
    "def downloadVideos():\n",
    "    res = YouTubeQuery(query, maxi, \"Videos\")\n",
    "    for url in res[\"link\"]:\n",
    "        video = pafy.new(url)\n",
    "        bestResolutionVideo = video.getbest()\n",
    "        os.chdir('/home/ubuntu/gitscripts/FobiaPhilter/Videos')\n",
    "        bestResolutionVideo.download()\n",
    "                    \n",
    "            \n",
    "def downloadIndTranscriptsVideos():\n",
    "    res = YouTubeQuery(query, maxi, \"Transcripts\")\n",
    "        \n",
    "    for i in range(0,len(res)):\n",
    "        try:\n",
    "            trans = YouTubeTranscriptApi.get_transcript(res['id'].iloc[i], languages=['en'])\n",
    "            with open('/home/ubuntu/gitscripts/FobiaPhilter/TranscriptsVideo/{title}_transcript.json'.format(title = res['Titles'][i]),'w') as json_file:   #this may need to polish json later on\n",
    "                json.dump(trans, json_file)\n",
    "    \n",
    "            \n",
    "            video = pafy.new(res['link'][i])\n",
    "            bestResolutionVideo = video.getbest()\n",
    "            bestResolutionVideo.download('/home/ubuntu/gitscripts/FobiaPhilter/TranscriptsVideo/{title}_transcript.mp4'.format(title = res['Titles'][i]))\n",
    "                \n",
    "        except: \n",
    "            print('Transcript no found',f\"{res['Titles'].iloc[i]}\")\n",
    "        \n",
    "        \n",
    "def main():\n",
    "    downloadVideos()\n",
    "    downloadIndTranscriptsVideos()\n",
    "\n",
    "if __name__ == \"__main__\":\n",
    "    main()"
   ]
  },
  {
   "cell_type": "code",
   "execution_count": 51,
   "metadata": {},
   "outputs": [],
   "source": [
    "# remove / paste every time\n",
    "import os\n",
    "import boto3\n",
    "\n",
    "\n",
    "...\n",
    "...\n",
    "..."
   ]
  },
  {
   "cell_type": "code",
   "execution_count": 52,
   "metadata": {},
   "outputs": [],
   "source": [
    "for root, dirs, files in os.walk('/home/ubuntu/gitscripts/FobiaPhilter/Videos'):\n",
    "    for file in files:\n",
    "        s3.Bucket(\"vidobject\").upload_file(os.path.join(root, file), file)"
   ]
  },
  {
   "cell_type": "code",
   "execution_count": null,
   "metadata": {},
   "outputs": [],
   "source": [
    "### Now transfer files in s3 to the desinated folder "
   ]
  },
  {
   "cell_type": "code",
   "execution_count": 53,
   "metadata": {},
   "outputs": [],
   "source": [
    "for root, dirs, files in os.walk('/home/ubuntu/gitscripts/FobiaPhilter/TranscriptsVideo'):\n",
    "    for file in files:\n",
    "        s3.Bucket(\"vidobject\").upload_file(os.path.join(root, file), file)"
   ]
  },
  {
   "cell_type": "code",
   "execution_count": null,
   "metadata": {},
   "outputs": [],
   "source": [
    "### Now transfer files in s3 to the desinated folder "
   ]
  }
 ],
 "metadata": {
  "kernelspec": {
   "display_name": "Python 3",
   "language": "python",
   "name": "python3"
  },
  "language_info": {
   "codemirror_mode": {
    "name": "ipython",
    "version": 3
   },
   "file_extension": ".py",
   "mimetype": "text/x-python",
   "name": "python",
   "nbconvert_exporter": "python",
   "pygments_lexer": "ipython3",
   "version": "3.7.7"
  }
 },
 "nbformat": 4,
 "nbformat_minor": 4
}
