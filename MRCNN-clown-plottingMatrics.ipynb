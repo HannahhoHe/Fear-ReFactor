{
 "cells": [
  {
   "cell_type": "code",
   "execution_count": 1,
   "metadata": {},
   "outputs": [],
   "source": [
    "import pandas as pd\n",
    "import seaborn as sns\n",
    "import matplotlib.pyplot as plt\n",
    "import numpy as np"
   ]
  },
  {
   "cell_type": "markdown",
   "metadata": {},
   "source": [
    "# Approach 1 - counting Frames in a folder"
   ]
  },
  {
   "cell_type": "code",
   "execution_count": 3,
   "metadata": {},
   "outputs": [],
   "source": [
    "# clean dataTotalNumberImage data \n",
    "dataTotalNumberImage = pd.read_csv('/home/ubuntu/Mask_RCNN/data/outputMetrics/totalNumberImages.txt')\n",
    "dataTotalNumberImage = dataTotalNumberImage.rename(columns = {'Unnamed: 0': 'Epoch'})\n",
    "dataTotalNumberImage['Epoch'] = dataTotalNumberImage['Epoch'].str.extract('(\\d+)')\n",
    "\n",
    "# Training \n",
    "TrainingMatrix = pd.read_csv('/home/ubuntu/Mask_RCNN/data/outputMetrics/TrainingMatrix.txt')\n",
    "TrainingMatrix = TrainingMatrix.rename(columns = {'PrePos_TruePos': 'TP', 'PrePos_TrueNeg': 'FP',\n",
    "                      'PreNeg_TruePos': 'FN', 'PreNeg_TrueNeg': 'TN'})\n",
    "\n",
    "TrainingMatrix['Accuracy'] = (TrainingMatrix['TP'] + TrainingMatrix['TN'])/(TrainingMatrix['TP'] + \n",
    "                                                                            TrainingMatrix['TN']+\n",
    "                                                                           TrainingMatrix['FP'] + \n",
    "                                                                            TrainingMatrix['FN'])\n",
    "\n",
    "TrainingMatrix['Precision'] = (TrainingMatrix['TP'])/(TrainingMatrix['TP'] + TrainingMatrix['FP'])\n",
    "\n",
    "TrainingMatrix['Recall'] = (TrainingMatrix['TP'])/(TrainingMatrix['TP'] + TrainingMatrix['FN']) \n",
    "\n",
    "TrainingMatrix['F1'] = 2*(TrainingMatrix['Precision']*TrainingMatrix['Recall'])/(\n",
    "    TrainingMatrix['Precision'] + TrainingMatrix['Recall'])\n",
    "\n",
    "TrainingMatrix['DataSet'] = 'Training (n=65)'\n",
    "\n",
    "TrainingMatrix = TrainingMatrix.drop(columns='Unnamed: 0')\n",
    "\n",
    "# Testing \n",
    "TestingMatrix = pd.read_csv('/home/ubuntu/Mask_RCNN/data/outputMetrics/validationMatrix.txt')\n",
    "TestingMatrix = TestingMatrix.rename(columns = {'PrePos_TruePos': 'TP', 'PrePos_TrueNeg': 'FP',\n",
    "                      'PreNeg_TruePos': 'FN', 'PreNeg_TrueNeg': 'TN'})\n",
    "\n",
    "TestingMatrix['Accuracy'] = (TestingMatrix['TP'] + TestingMatrix['TN'])/(TestingMatrix['TP'] + \n",
    "                                                                            TestingMatrix['TN']+\n",
    "                                                                           TestingMatrix['FP'] + \n",
    "                                                                            TestingMatrix['FN'])\n",
    "\n",
    "TestingMatrix['Precision'] = (TestingMatrix['TP'])/(TestingMatrix['TP'] + TestingMatrix['FP'])\n",
    "\n",
    "TestingMatrix['Recall'] = (TestingMatrix['TP'])/(TestingMatrix['TP'] + TestingMatrix['FN']) \n",
    "\n",
    "TestingMatrix['F1'] = 2*(TestingMatrix['Precision']*TestingMatrix['Recall'])/(\n",
    "    TestingMatrix['Precision'] + TestingMatrix['Recall'])\n",
    "\n",
    "TestingMatrix['DataSet'] = 'Testing (n=17)'\n",
    "\n",
    "TestingMatrix = TestingMatrix.drop(columns='Unnamed: 0')\n",
    "TestingMatrix.sort_values(by=['Epoch'])\n",
    "\n",
    "#Matrix = pd.concat([TrainingMatrix, TestingMatrix])\n",
    "\n",
    "Matrix = TestingMatrix\n",
    "\n",
    "# plotting \n",
    "\n",
    "# Epoch vs. Accuracy / F1\n",
    "sns.set(style = \"ticks\", font_scale = 1.5, color_codes=True)\n",
    "sns.set_context(\"talk\")\n",
    "g= sns.scatterplot(data = Matrix, \n",
    "               x=\"Epoch\", y= \"Accuracy\", edgecolor=\"0.1\", hue = 'DataSet', palette = 'Set2', size = 'Precision')\n",
    "g.legend(bbox_to_anchor=(1.05, 1), loc=2, borderaxespad=0.)\n",
    "\n",
    "# Epoch vs. Recall / F1\n",
    "sns.set(style = \"ticks\", font_scale = 1.5, color_codes=True)\n",
    "sns.set_context(\"talk\")\n",
    "g= sns.scatterplot(data = Matrix, \n",
    "               x=\"Epoch\", y= \"F1\", edgecolor=\"0.1\", hue = 'DataSet', palette = 'Set2', size = 'Recall')\n",
    "g.legend(bbox_to_anchor=(1.05, 1), loc=2, borderaxespad=0.)\n",
    "\n",
    "# Total plot (training)\n",
    "sns.set(style = \"ticks\", font_scale = 1.5, color_codes=True)\n",
    "sns.set_context(\"talk\")\n",
    "\n",
    "g= sns.scatterplot(data = dataTotalNumberImage, \n",
    "               x=\"Epoch\", y= \"pred_pos_training\", edgecolor=\"0.1\", color= 'red')\n",
    "g.axhline(50, ls='--', color = 'black')\n",
    "\n",
    "# Total plot (testing)\n",
    "sns.set(style = \"ticks\", font_scale = 1.5, color_codes=True)\n",
    "sns.set_context(\"talk\")\n",
    "\n",
    "g= sns.scatterplot(data = dataTotalNumberImage, \n",
    "               x=\"Epoch\", y= \"pred_pos_validation\", edgecolor=\"0.1\", color = 'orange')\n",
    "g.axhline(232, ls='--', color = 'black')\n",
    "\n",
    "# ConfusionMatrix, At Epoch50, Training \n",
    "\n",
    "TrainingMatrix = TrainingMatrix.sort_values(by=['Epoch'])\n",
    "TP = TrainingMatrix.iloc[2, 1]\n",
    "FP = TrainingMatrix.iloc[2, 2]\n",
    "FN = TrainingMatrix.iloc[2, 3]\n",
    "TN = TrainingMatrix.iloc[2, 4]\n",
    "TrainingMatrixConfusion = [[TP, FP], [FN, TN]]\n",
    "\n",
    "g = sns.heatmap(TrainingMatrixConfusion, annot=True, annot_kws={\"size\": 16},cmap='coolwarm', \n",
    "               xticklabels=['C', 'NC'],\n",
    "               yticklabels=['C', 'NC'])\n",
    "plt.xlabel('True')\n",
    "plt.ylabel('Pred')\n",
    "plt.suptitle('Training (Epoch = 50)')\n",
    "\n",
    "# ConfusionMatrix, At Epoch50, Testing \n",
    "\n",
    "TestingMatrix = TestingMatrix.sort_values(by=['Epoch'])\n",
    "TP = TestingMatrix.iloc[2, 1]\n",
    "FP = TestingMatrix.iloc[2, 2]\n",
    "FN = TestingMatrix.iloc[2, 3]\n",
    "TN = TestingMatrix.iloc[2, 4]\n",
    "TestingMatrixMatrixConfusion = [[TP, FP], [FN, TN]]\n",
    "\n",
    "g = sns.heatmap(TestingMatrixMatrixConfusion, annot=True, annot_kws={\"size\": 16},cmap='coolwarm', \n",
    "               xticklabels=['C', 'NC'],\n",
    "               yticklabels=['C', 'NC'], fmt='g')\n",
    "plt.xlabel('True')\n",
    "plt.ylabel('Pred')\n",
    "plt.suptitle('Testing (Epoch = 50)')\n",
    "\n",
    "# ConfusionMatrix, At Epoch100, Testing \n",
    "\n",
    "TestingMatrix = TestingMatrix.sort_values(by=['Epoch'])\n",
    "TP = TestingMatrix.iloc[4, 1]\n",
    "FP = TestingMatrix.iloc[4, 2]\n",
    "FN = TestingMatrix.iloc[4, 3]\n",
    "TN = TestingMatrix.iloc[4, 4]\n",
    "TestingMatrixMatrixConfusion = [[TP, FP], [FN, TN]]\n",
    "\n",
    "g = sns.heatmap(TestingMatrixMatrixConfusion, annot=True, annot_kws={\"size\": 16},cmap='coolwarm', \n",
    "               xticklabels=['C', 'NC'],\n",
    "               yticklabels=['C', 'NC'], fmt='g')\n",
    "plt.xlabel('True')\n",
    "plt.ylabel('Pred')\n",
    "plt.suptitle('Testing (Epoch = 100)')"
   ]
  },
  {
   "cell_type": "markdown",
   "metadata": {},
   "source": [
    "# Approach 2 - counting frames w/ w/o objects"
   ]
  },
  {
   "cell_type": "code",
   "execution_count": 3,
   "metadata": {},
   "outputs": [],
   "source": [
    "trainingTable = pd.read_csv('/home/ubuntu/Mask_RCNN/data/training_forConfusionTablePlot.txt')\n",
    "TestingTable = pd.read_csv('/home/ubuntu/Mask_RCNN/data/testing_forConfusionTablePlot.txt')"
   ]
  },
  {
   "cell_type": "code",
   "execution_count": 12,
   "metadata": {},
   "outputs": [],
   "source": [
    "def getConfusionTable(dataFile):\n",
    "    dataFile['Accuracy'] = (dataFile['PP'] + dataFile['NN'])/(dataFile['PP'] + dataFile['NN']+\n",
    "                                                                              dataFile['NP'] + \n",
    "                                                                               dataFile['PN'])\n",
    "    \n",
    "    dataFile['Precision'] = (dataFile['PP'])/(dataFile['PP'] + dataFile['NP'])\n",
    "\n",
    "    dataFile['Recall'] = (dataFile['PP'])/(dataFile['PP'] + dataFile['PN']) \n",
    "\n",
    "    dataFile['F1'] = 2*(dataFile['Precision']*dataFile['Recall'])/(\n",
    "        dataFile['Precision'] + dataFile['Recall'])\n",
    "    dataFile = dataFile.drop(columns='Unnamed: 0')\n",
    "    \n",
    "    return dataFile \n",
    "\n",
    "TrainingConfusionTable = getConfusionTable(trainingTable)\n",
    "TrainingConfusionTable.to_csv('/home/ubuntu/Mask_RCNN/data/TrainingConfusionTable.txt')\n",
    "\n",
    "TestingConfusionTable = getConfusionTable(TestingTable)\n",
    "TestingConfusionTable.to_csv('/home/ubuntu/Mask_RCNN/data/TestingConfusionTable.txt')"
   ]
  },
  {
   "cell_type": "code",
   "execution_count": 31,
   "metadata": {},
   "outputs": [
    {
     "data": {
      "text/plain": [
       "<module 'matplotlib.pyplot' from '/home/ubuntu/anaconda3/lib/python3.7/site-packages/matplotlib/pyplot.py'>"
      ]
     },
     "execution_count": 31,
     "metadata": {},
     "output_type": "execute_result"
    },
    {
     "data": {
      "image/png": "[encoded data removed]",
      "text/plain": [
       "<Figure size 432x288 with 2 Axes>"
      ]
     },
     "metadata": {
      "needs_background": "light"
     },
     "output_type": "display_data"
    }
   ],
   "source": [
    "def plotConfusionTable(data):\n",
    "\n",
    "    TN = data.iloc[2][1]\n",
    "    TP = data.iloc[2][2]\n",
    "    FN = data.iloc[2][4]\n",
    "    FP = data.iloc[2][3]\n",
    "    ConfusionTable = [[TP, FP], [FN, TN]]\n",
    "\n",
    "    g = sns.heatmap(ConfusionTable/np.sum(ConfusionTable), annot=True, annot_kws={\"size\": 16},cmap='coolwarm', \n",
    "                   xticklabels=['contain clown', 'no clown'],\n",
    "                   yticklabels=['contain clown', 'no clown'],\n",
    "                   fmt='.2%')\n",
    "    \n",
    "    plt.xlabel('True')\n",
    "    plt.ylabel('Pred')\n",
    "    plt.suptitle('Testing (Epoch = 25)')\n",
    "    \n",
    "    return plt\n",
    "plotConfusionTable(TestingConfusionTable)"
   ]
  },
  {
   "cell_type": "markdown",
   "metadata": {},
   "source": [
    "# Approach 3 - counting objects"
   ]
  },
  {
   "cell_type": "code",
   "execution_count": 36,
   "metadata": {},
   "outputs": [],
   "source": [
    "# Only testing data and epoc 25\n",
    "data = pd.read_csv('/home/ubuntu/Mask_RCNN/data/Testing_truth_pred_objCount.txt')\n",
    "data = data[data.epoch==25]"
   ]
  },
  {
   "cell_type": "code",
   "execution_count": 42,
   "metadata": {},
   "outputs": [],
   "source": [
    "# frames with clown\n",
    "data_with_true_clown = data[data.val_clown!=0]\n",
    "data_with_true_clown['pred/true'] = data_with_true_clown['#clown']/data_with_true_clown['val_clown']\n",
    "data_with_true_clown = data_with_true_clown[['pred/true']]\n",
    "sns.set(style = \"ticks\", font_scale = 1.5, color_codes=True)\n",
    "sns.set_context(\"talk\")\n",
    "g= sns.countplot(data = data_with_true_clown, \n",
    "               x=\"pred/true\", palette = 'Set2')\n",
    "plt.xlabel('Pred/True (number of clown)')\n",
    "plt.ylabel('Number of frames \\n (Frequency)')\n",
    "\n",
    "\n",
    "#frames without clown\n",
    "data_without_true_clown = data[data.val_clown==0]\n",
    "data_without_true_clown = data_without_true_clown[['#clown']]\n",
    "sns.distplot(data_without_true_clown,bins=\"doane\",kde=False,hist_kws={\"align\" : \"left\"})\n",
    "plt.xlabel('Pred (number of clown)')\n",
    "plt.ylabel('Number of frames \\n (Frequency)')\n"
   ]
  },
  {
   "cell_type": "code",
   "execution_count": 89,
   "metadata": {},
   "outputs": [],
   "source": [
    "data = pd.read_csv('/home/ubuntu/Mask_RCNN/data/Testing_truth_pred_objCount.txt')\n",
    "data = data[data.epoch==25]\n",
    "data_without_true_clown = data[data.val_clown==0]\n",
    "\n",
    "\n"
   ]
  },
  {
   "cell_type": "code",
   "execution_count": 109,
   "metadata": {},
   "outputs": [
    {
     "data": {
      "text/plain": [
       "Text(0, 0.5, 'Number of pred faces (avg)')"
      ]
     },
     "execution_count": 109,
     "metadata": {},
     "output_type": "execute_result"
    },
    {
     "data": {
      "image/png": "[encoded data removed]",
      "text/plain": [
       "<Figure size 432x288 with 1 Axes>"
      ]
     },
     "metadata": {},
     "output_type": "display_data"
    }
   ],
   "source": [
    "sns.set(style = \"ticks\", font_scale = 1.5, color_codes=True)\n",
    "sns.set_context(\"talk\")\n",
    "sns.barplot(data = data_without_true_clown, x = 'val_nface', y = '#nface', color='brown')\n",
    "plt.ylim(0, 7)\n",
    "plt.xlabel('Number of true faces')\n",
    "plt.ylabel('Number of pred faces (avg)')"
   ]
  },
  {
   "cell_type": "code",
   "execution_count": 110,
   "metadata": {},
   "outputs": [
    {
     "data": {
      "text/plain": [
       "Text(0, 0.5, 'Number of pred clown (avg)')"
      ]
     },
     "execution_count": 110,
     "metadata": {},
     "output_type": "execute_result"
    },
    {
     "data": {
      "image/png": "[encoded data removed]",
      "text/plain": [
       "<Figure size 432x288 with 1 Axes>"
      ]
     },
     "metadata": {},
     "output_type": "display_data"
    }
   ],
   "source": [
    "sns.barplot(data = data_without_true_clown, x = 'val_nface', y = '#clown', color='steelblue')\n",
    "plt.ylim(0, 7)\n",
    "plt.xlabel('Number of true faces')\n",
    "plt.ylabel('Number of pred clown (avg)')"
   ]
  },
  {
   "cell_type": "code",
   "execution_count": null,
   "metadata": {},
   "outputs": [],
   "source": []
  }
 ],
 "metadata": {
  "kernelspec": {
   "display_name": "Python 3",
   "language": "python",
   "name": "python3"
  },
  "language_info": {
   "codemirror_mode": {
    "name": "ipython",
    "version": 3
   },
   "file_extension": ".py",
   "mimetype": "text/x-python",
   "name": "python",
   "nbconvert_exporter": "python",
   "pygments_lexer": "ipython3",
   "version": "3.7.7"
  }
 },
 "nbformat": 4,
 "nbformat_minor": 4
}
