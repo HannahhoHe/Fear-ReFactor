{
 "cells": [
  {
   "cell_type": "code",
   "execution_count": 1,
   "metadata": {
    "scrolled": true
   },
   "outputs": [],
   "source": [
    "import sys \n",
    "import cv2\n",
    "import os\n",
    "from os.path import isfile, join\n",
    "import pandas as pd\n",
    "from youtubesearchpython import SearchVideos\n",
    "import pandas as pd\n",
    "from lxml import html, etree\n",
    "import pafy\n",
    "import json\n",
    "import os\n",
    "import numpy as np\n",
    "from ffpyplayer.player import MediaPlayer\n",
    "from pytube import YouTube\n",
    "from moviepy.editor import *\n",
    "from moviepy.video.VideoClip import VideoClip"
   ]
  },
  {
   "cell_type": "markdown",
   "metadata": {},
   "source": [
    "# STEP1 - Download YouTube by url"
   ]
  },
  {
   "cell_type": "code",
   "execution_count": null,
   "metadata": {},
   "outputs": [],
   "source": [
    "url = 'https://www.youtube.com/watch?v=GGOMD2DlJUY&t=1s'\n",
    "video = pafy.new(url)\n",
    "bestResolutionVideo = video.getbest()\n",
    "bestResolutionVideo.download()"
   ]
  },
  {
   "cell_type": "markdown",
   "metadata": {},
   "source": [
    "# STEP2 - (May refresh kernel) - make sure the fps is NOT zero "
   ]
  },
  {
   "cell_type": "code",
   "execution_count": null,
   "metadata": {},
   "outputs": [],
   "source": [
    "# After download, restart the kernel, and make sure this is not 0.0\n",
    "vidcap = cv2.VideoCapture('Best Clown Pranks Compilation 2018.mp4')\n",
    "vidcap.get(cv2.CAP_PROP_FPS)\n",
    "#vidcap.get(cv2.CAP_PROP_POS_MSEC)"
   ]
  },
  {
   "cell_type": "markdown",
   "metadata": {},
   "source": [
    "# STEP3 - Parse the video "
   ]
  },
  {
   "cell_type": "code",
   "execution_count": null,
   "metadata": {},
   "outputs": [],
   "source": [
    "# video - to -images \n",
    "vidcap = cv2.VideoCapture('Best Clown Pranks Compilation 2018.mp4')\n",
    "def getFrame(sec):\n",
    "    vidcap.set(cv2.CAP_PROP_POS_MSEC,sec*1000)   #set the capturing start at (sec*1000 milliseconds)\n",
    "    hasFrames,image = vidcap.read()\n",
    "    if hasFrames:\n",
    "        os.chdir(r'C:\\Users\\DrHeh\\Google Drive\\programming\\py_InsightFellowProject\\pre-course prep\\YouTubeVideos')\n",
    "        cv2.imwrite(\"image\"+str(count)+\".jpg\", image)     # save frame as JPG file\n",
    "    return hasFrames\n",
    "\n",
    "\n",
    "if __name__ == '__main__':\n",
    "    sec = 104 #capture start at 120 seconds \n",
    "    frameRate = 1/vidcap.get(cv2.CAP_PROP_FPS) #//it will capture image in each \"frameRate\" second\n",
    "    count=1\n",
    "    success = getFrame(sec)\n",
    "    while success:\n",
    "        while (count < 500):\n",
    "            count = count + 1  #for label images \n",
    "            #sec = sec + 1 #every 1 sec \n",
    "            sec = sec + frameRate*1 #every 1 frames\n",
    "            sec = round(sec, 2)\n",
    "            success = getFrame(sec)\n",
    "        else:\n",
    "            break"
   ]
  },
  {
   "cell_type": "markdown",
   "metadata": {},
   "source": [
    "# STEP 4 Parse Audio"
   ]
  },
  {
   "cell_type": "code",
   "execution_count": null,
   "metadata": {},
   "outputs": [],
   "source": [
    "audio_cut = VideoFileClip(bestResolutionVideo.filename).subclip(104,120) #second start, end\n",
    "audio_cut.write_videofile('audio.mp4', audio=True)"
   ]
  },
  {
   "cell_type": "markdown",
   "metadata": {},
   "source": [
    "# After MASK RCNN, PostStep - Construct Video"
   ]
  },
  {
   "cell_type": "code",
   "execution_count": null,
   "metadata": {},
   "outputs": [],
   "source": [
    "# images - to -videos \n",
    "pathIn= '/home/ubuntu/Mask_RCNN/data/PreVideoFrame/'\n",
    "pathOut = '/home/ubuntu/Mask_RCNN/data/videoConstruct1.mp4'\n",
    "df_filename_imageID = pd.read_csv('/home/ubuntu/Mask_RCNN/data/TestSampleImageID.txt')\n",
    "fps = 1/30 #(or vidcap.get(cv2.CAP_PROP_FPS))\n",
    "   \n",
    "# start to convert images to videos\n",
    "frame_array = []\n",
    "for file in df_filename_imageID['Index_outputFile']:\n",
    "    filename = pathIn + str(file) +'.jpg'\n",
    "    img = cv2.imread(filename)\n",
    "    height, width, layers = img.shape\n",
    "    size = (width,height)\n",
    "    \n",
    "    #inserting the frames into an image array\n",
    "    frame_array.append(img)\n",
    "out = cv2.VideoWriter(pathOut,cv2.VideoWriter_fourcc(*'DIVX'), fps, size)\n",
    "for i in range(len(frame_array)):\n",
    "    # writing to a image array\n",
    "    out.write(frame_array[i])\n",
    "out.release()"
   ]
  },
  {
   "cell_type": "markdown",
   "metadata": {},
   "source": [
    "# Final Step - Play the Video"
   ]
  },
  {
   "cell_type": "code",
   "execution_count": 2,
   "metadata": {},
   "outputs": [
    {
     "name": "stdout",
     "output_type": "stream",
     "text": [
      "End of video\n"
     ]
    }
   ],
   "source": [
    "# play video \n",
    "video_path = 'videoConstruct1.mp4' \n",
    "audio_path = \"part.mp4\"\n",
    "def PlayVideo(video_path):\n",
    "    video = cv2.VideoCapture(video_path)\n",
    "    player = MediaPlayer(audio_path)\n",
    "    while True:\n",
    "        grabbed, frame=video.read()\n",
    "        audio_frame, val = player.get_frame()\n",
    "        if not grabbed:\n",
    "            print(\"End of video\")\n",
    "            break\n",
    "        if cv2.waitKey(28) & 0xFF == ord(\"q\"):\n",
    "            break\n",
    "        #frame = cv2.resize(frame, (1800, 1000))\n",
    "        cv2.imshow(\"Video\", frame)\n",
    "        if val != 'eof' and audio_frame is not None:\n",
    "            #audio\n",
    "            img, t = audio_frame\n",
    "    video.release()\n",
    "    cv2.destroyAllWindows()\n",
    "PlayVideo(video_path)"
   ]
  },
  {
   "cell_type": "code",
   "execution_count": null,
   "metadata": {},
   "outputs": [],
   "source": []
  }
 ],
 "metadata": {
  "kernelspec": {
   "display_name": "Python 3",
   "language": "python",
   "name": "python3"
  },
  "language_info": {
   "codemirror_mode": {
    "name": "ipython",
    "version": 3
   },
   "file_extension": ".py",
   "mimetype": "text/x-python",
   "name": "python",
   "nbconvert_exporter": "python",
   "pygments_lexer": "ipython3",
   "version": "3.8.5"
  }
 },
 "nbformat": 4,
 "nbformat_minor": 4
}
